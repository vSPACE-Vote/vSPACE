{
  "nbformat": 4,
  "nbformat_minor": 0,
  "metadata": {
    "colab": {
      "provenance": []
    },
    "kernelspec": {
      "name": "python3",
      "display_name": "Python 3"
    },
    "language_info": {
      "name": "python"
    }
  },
  "cells": [
    {
      "cell_type": "code",
      "execution_count": null,
      "metadata": {
        "id": "9nUrWJHA15vh"
      },
      "outputs": [],
      "source": [
        "## 1st_vSpaceVote_DID_TDW_Workload_v240625n.ipynb\n",
        "## Commentable at https://colab.research.google.com/drive/19VKvyDJ0pnVIljDCF90ww1bdHf7QcdDM?usp=sharing\n",
        "## https://github.com/vSpaceVote/vSpaceVote/blob/main/DID-TDW-Workload-Draft.go#L52\n",
        "## App@1 https://colab.research.google.com/drive/19VKvyDJ0pnVIljDCF90ww1bdHf7QcdDM"
      ]
    },
    {
      "cell_type": "markdown",
      "source": [
        "# Overview Notes"
      ],
      "metadata": {
        "id": "sx57niqGWq-y"
      }
    },
    {
      "cell_type": "markdown",
      "source": [
        "## 1st Confidential [v]SPACE:\n",
        "[Confidential vSpaceWallet dApp] [DIDs, App-Workload, Device-Endpoints, NW-Env & E2EE-Data](https://github.com/vSpaceVote/vSpaceVote/tree/main)![Credit: Google, 2024; https://codelabs.developers.google.com/codelabs/confidential-space](https://storage.googleapis.com/gweb-cloudblog-publish/images/Confidential_Space_1.max-1800x1800.jpg)\n",
        "![Confidential Space](https://codelabs.developers.google.com/static/codelabs/confidential-space/img/fdef93a6868a976_1440.png)\n",
        "[Credit](https://cloud.google.com/blog/products/identity-security/how-confidential-space-and-mpc-can-help-secure-digital-assets): Google, 2023.\n",
        "\n",
        "---\n",
        "\n",
        "### Yubikey/GUnet's Wallet Demo [Showcasing the issuing of a Permanent-Resident Card Credential](https://youtu.be/X-_jAVbAbu4&t=02m44s)\n",
        "\n",
        "#### SIOP-OID4VP [REF](https://github.com/Sphereon-Opensource/SIOP-OID4VP?tab=readme-ov-file#------self-issued-openid-provider-siopv2with-openid4vp-support--)\n",
        "\n",
        "#### VID Architecture Diagram:\n",
        "![VID architecture-diagram](https://raw.githubusercontent.com/TheSDEs/Microsoft-Verifiable-Credentials-Keycloack/main/doc/images/architecture-diagram.png)\n",
        "[Credit](https://github.com/twogenidentity/microsoft-verifiable-credentials-workshop/blob/main/doc/images/architecture-diagram.png): Martin Besozzi, TwoGenIdentity, 2023.\n",
        "\n",
        "---\n",
        "\n",
        "## ZTA per Zero Trust Deployment for Technology Pillars:\n",
        "\n",
        "![!!!!!1st-C6AI-ZTA-Pillars--Diagram-Zero-Trust-Security-Elements.png](https://learn.microsoft.com/en-gb/security/zero-trust/media/diagram-zero-trust-security-elements.png)\n",
        "[Credit](https://learn.microsoft.com/en-gb/security/zero-trust/deploy/overview): Microsoft Learn, 2024.\n",
        "\n",
        "---\n",
        "\n",
        "Elements of Zero Trust Cyber Security [given a focus on Visibility, Automation, and Orchestration]:\n",
        "**Identity, Endpoints, Data, Apps, Infrastructure, Network.**\n",
        "![!!!!!1st-C6AI-ZTA-Pillars--Zero-Trust-Foundation.png](https://techinsider.paloaltonetworks.com/wp-content/uploads/2022/05/zero-trust-foundation.png)\n",
        "[Credit](https://techinsider.paloaltonetworks.com/zero-trust-identity-at-palo-alto-networks-it-all-begins-with-knowing-thyself/): Nick Vice, PaloAltoNetworks 2022.\n",
        "\n",
        "---\n",
        "\n",
        "## 12 Principles of vSPACE did:tdw SSI (Self-Sovereign Identity):\n",
        "\n",
        "#### Agency:\n",
        "1. **Representation**\n",
        "2. **Delegation**\n",
        "3. **Equity**\n",
        "4. **Usability**\n",
        "\n",
        "#### Autonomy:\n",
        "5. **Participation**\n",
        "6. **Decentralization**\n",
        "7. **Interoperability**\n",
        "8. **Portability**\n",
        "\n",
        "#### Integrity:\n",
        "9. **Security**\n",
        "10. **Verifiability**\n",
        "11. **Privacy**\n",
        "12. **Transparency**\n",
        "\n",
        "![1st_vSPACE_Vote_DID_TDW_SSI_12_Principles_of_Agency_Autonomy_Integrity.png](https://pplx-res.cloudinary.com/image/upload/v1718964426/user_uploads/faxtxdfzy/12_principles_V3_300ppi_transparent_ENGLISH-2048x1448.jpg)\n",
        "[Credit](https://sovrin.org/principles-of-ssi): Sovrin Foundation, 2021.\n",
        "\n",
        "---\n",
        "\n",
        "### Pending:\n",
        "\n",
        " ... Still considering the \"Samsung EUDI Wallet\" [possibly based on Google existing open source wallet in the Open Wallet Foundation?]; or else, extending Open-Source 'Minimalistic' [Animo Paradym and/or Sphereon] Wallets into OpenWallet Foundation 'Credo' Wallet and/or mmWallet [for FIDO/WebAuthn & PRF****] \"to include the necessary capabilities for the EUDI Wallet, integrating with the eID system” … for a “EUDI project focusing on a mobile wallet that can securely receive and present a Personal Identity Document (PID) in SD-JWT VC and mDL [or mVAC] formats.”\n",
        "\n",
        "### Latest* UPDATE:\n",
        "\n",
        " 1) Samsung, Google & iProov [alongside other 'funded' open-source alternatives: [FIDO-compatible] Yubico/Sunet/GUnet wwWallet, Sphereon & Animo Paradym/Credo Wallets] joined Germany’s Android-based EUDI (eIDAS 2.0 European Digital Identity) Wallet [bound to hardware keys stored in the mobile device’s secure enclave, with trust managed through OpenID Federation*****] PoC challenge.\n",
        "\n",
        " 2) **Verify ID via Samsung Wallet**: Arizona residents can add their state ID or mDL [1st: Scan the ID front/back, 2nd: Face-Scan to verify identity, 3rd: authenticate via fingerprint or PIN], then present it [with NFC or QR code] easily and securely at TSA airport checkpoints\n",
        " https://youtu.be/jLcEzTu429E\n",
        " ![Verify ID via Samsung Wallet](https://tsa.gov/sites/default/files/tsa_websiteillustrations_a_005_cat2-quad-1714x855_rev.jpg)\n",
        " https://azdot.gov/samsung-wallet\n",
        "\n",
        "\n",
        "*[as of 2024-06-06] https://findbiometrics.com/major-tech-firms-join-germanys-eudi-wallet-project\n",
        "\n",
        "**PoC prototypes must implement the following functions:\n",
        "Stage 1: They must issue and present Person Identification Data (PID) based on the online ID function of the state-issued ID card.\n",
        "Stage 2: They must issue and present Electronic Attestations of Attributes (EAAs).\n",
        "Stage 3: They must permit pseudonymous login to Relying Parties and assist with the LSP POTENTIAL. https://SPRIND.org/en/Challenges/EUDI-Wallet-Prototypes\n",
        "\n",
        "***While adopting Firebase Auth for a FIDO-based Security Key integration, besides the OPEN-SOURCE Ory-Hydra:\n",
        "https://ory.sh/comparisons/ory-vs-firebase\n",
        "https://wwwallet.github.io/wallet-docs/docs/development-setup/getting-started\n",
        "https://github.com/wwWallet/wallet-frontend?tab=readme-ov-file#installation\n",
        "\n",
        "*****https://github.com/wwWallet/wallet-ecosystem/blob/master/wallet-enterprise-configurations/vid-issuer/keys/issuer.key.json\n",
        "\n",
        "****FIDO/WebAuthn & PRF Compatibility Scenarios\n",
        "https://github.com/wwWallet/wallet-frontend?tab=readme-ov-file#prf-compatibility\n",
        "\n",
        "\n",
        "### c/o:\n",
        "\n",
        "-- Kristina Yasuda, MOSIP/EUDIW Architect, ex-Microsoft ID Arch.\n",
        "https://linkedin.com/posts/kristinayasuda_eudi-wallet-prototypes-activity-7201678709483839492-iRv8\n",
        "https://youtu.be/1kasYZ4NO0c\n",
        "\n",
        "-- Ömür Batkin, Samsung Wallet, Samsung Electronics GmbH\n",
        "https://linkedin.com/in/batkin1\n",
        "\n",
        "-- Sunhwa Park, PM for Samsung Wallet US/EU at Samsung Electronics\n",
        "https://linkedin.com/in/sunhwa-park\n",
        "https://linkedin.com/feed/update/urn:li:activity:7143374931349692416\n",
        "\n",
        "-- Kamil Bąk, Principal PM for Samsung Wallet EU @ Samsung R&D\n",
        "https://linkedin.com/in/kamil-b%C4%85k-59997b7\n",
        "https://linkedin.com/feed/update/urn:li:ugcPost:7204368484791705602\n",
        "\n",
        "---\n",
        "---"
      ],
      "metadata": {
        "id": "4bo2TpjGF3bG"
      }
    },
    {
      "cell_type": "markdown",
      "source": [
        "# Demo: did:web vs did:tdw (Trust DID [Next]Web) SSI"
      ],
      "metadata": {
        "id": "21Ek1rf_I8OG"
      }
    },
    {
      "cell_type": "markdown",
      "source": [
        "### Prep"
      ],
      "metadata": {
        "id": "C9yHcfgkVomQ"
      }
    },
    {
      "cell_type": "code",
      "source": [
        "import time\n",
        "import pandas as pd\n",
        "from google.colab import files\n",
        "import matplotlib.pyplot as plt\n",
        "from IPython.display import Image, display, HTML"
      ],
      "metadata": {
        "id": "_zn9PnRnz5jC"
      },
      "execution_count": 29,
      "outputs": []
    },
    {
      "cell_type": "code",
      "source": [
        "# import asyncio\n",
        "# import json\n",
        "# import pandas as pd\n",
        "# import matplotlib.pyplot as plt\n",
        "# from datetime import datetime\n",
        "# from pathlib import Path\n",
        "# from sys import argv\n",
        "# from time import perf_counter\n",
        "# import aries_askar\n",
        "# from did_history.did import SCID_PLACEHOLDER\n",
        "# from did_history.date_utils import make_timestamp\n",
        "# from did_history.state import DocumentState\n",
        "# from did_tdw.const import ASKAR_STORE_FILENAME, HISTORY_FILENAME\n",
        "# from did_tdw.history import load_history_path, update_document_state, write_document_state\n",
        "# from did_tdw.proof import AskarSigningKey, SigningKey, di_jcs_sign_raw\n",
        "# from did_tdw.provision import auto_provision_did"
      ],
      "metadata": {
        "id": "qEahbC9y0J4q"
      },
      "execution_count": null,
      "outputs": []
    },
    {
      "cell_type": "code",
      "source": [
        "## trust-did-web---python\n",
        "!git clone https://github.com/TheSDEs/trustdidweb-py.git"
      ],
      "metadata": {
        "id": "bSYHH_09uKwP",
        "colab": {
          "base_uri": "https://localhost:8080/"
        },
        "outputId": "0982003d-d3a9-4138-b6fb-5ded0fa82330"
      },
      "execution_count": null,
      "outputs": [
        {
          "output_type": "stream",
          "name": "stdout",
          "text": [
            "Cloning into 'trustdidweb-py'...\n",
            "remote: Enumerating objects: 492, done.\u001b[K\n",
            "remote: Total 492 (delta 0), reused 0 (delta 0), pack-reused 492\u001b[K\n",
            "Receiving objects: 100% (492/492), 141.59 KiB | 1.77 MiB/s, done.\n",
            "Resolving deltas: 100% (282/282), done.\n"
          ]
        }
      ]
    },
    {
      "cell_type": "code",
      "source": [
        "root_dir = !pwd # /content\n",
        "root_dir_name = root_dir[0]\n",
        "root_dir # ['/content']\n",
        "root_dir_name # '/content'"
      ],
      "metadata": {
        "id": "_tWlSznu5-j5",
        "colab": {
          "base_uri": "https://localhost:8080/"
        },
        "outputId": "b95cb5f5-092a-438c-bbbe-e2c4d07c457e"
      },
      "execution_count": null,
      "outputs": [
        {
          "output_type": "execute_result",
          "data": {
            "text/plain": [
              "'/content'"
            ],
            "application/vnd.google.colaboratory.intrinsic+json": {
              "type": "string"
            }
          },
          "metadata": {},
          "execution_count": 3
        }
      ]
    },
    {
      "cell_type": "code",
      "source": [
        "# Navigate to the repository directory\n",
        "%cd trustdidweb-py"
      ],
      "metadata": {
        "id": "3UCwdPJfuKss",
        "colab": {
          "base_uri": "https://localhost:8080/"
        },
        "outputId": "5bec2d6b-ab50-4791-e5b8-56f46ae68fd0"
      },
      "execution_count": null,
      "outputs": [
        {
          "output_type": "stream",
          "name": "stdout",
          "text": [
            "/content/trustdidweb-py\n"
          ]
        }
      ]
    },
    {
      "cell_type": "code",
      "source": [
        "!pwd\n",
        "repo_dir = !pwd # /content/trustdidweb-py\n",
        "repo_dir_name = repo_dir[0]\n",
        "repo_dir # ['/content/trustdidweb-py']\n",
        "repo_dir_name # '/content/trustdidweb-py'"
      ],
      "metadata": {
        "id": "xgXl3yiRuKE_",
        "colab": {
          "base_uri": "https://localhost:8080/"
        },
        "outputId": "d9fde4ee-b444-434b-a1be-01f086607215"
      },
      "execution_count": null,
      "outputs": [
        {
          "output_type": "stream",
          "name": "stdout",
          "text": [
            "/content/trustdidweb-py\n"
          ]
        },
        {
          "output_type": "execute_result",
          "data": {
            "text/plain": [
              "'/content/trustdidweb-py'"
            ],
            "application/vnd.google.colaboratory.intrinsic+json": {
              "type": "string"
            }
          },
          "metadata": {},
          "execution_count": 5
        }
      ]
    },
    {
      "cell_type": "code",
      "source": [
        "## !zip -r /content/filename.zip /content/sample_data/\n",
        "# import datetime\n",
        "# current_time = datetime.datetime.now().strftime(\"%Y%m%d_%H%M%S\")\n",
        "# import time\n",
        "# Get current date and time as YYYYMMDD_HHMMSS\n",
        "current_time = time.strftime(\"%Y%m%d_%H%M%S\") ## 20240620_190318\n",
        "# current_time = int(time.time()) ## time in seconds since epoch\n",
        "filename = f\"1st_DID_TDW_{current_time}.zip\"\n",
        "print(f\"{root_dir_name}/{filename}\")"
      ],
      "metadata": {
        "id": "QNx6gXFC-ERO",
        "colab": {
          "base_uri": "https://localhost:8080/"
        },
        "outputId": "e4e26a1a-5756-4b51-aaaf-3eaeeb995f69"
      },
      "execution_count": null,
      "outputs": [
        {
          "output_type": "stream",
          "name": "stdout",
          "text": [
            "/content/1st_DID_TDW_20240625_170551.zip\n"
          ]
        }
      ]
    },
    {
      "cell_type": "code",
      "source": [
        "# !pip install -r requirements.txt\n",
        "## ModuleNotFoundError: No module named 'jsonpatch'\n",
        "!mv requirements.txt requirements0.txt"
      ],
      "metadata": {
        "id": "O376OcmXu_HH"
      },
      "execution_count": null,
      "outputs": []
    },
    {
      "cell_type": "code",
      "source": [
        "%%writefile requirements.txt\n",
        "aiofiles\n",
        "aiohttp\n",
        "aries_askar\n",
        "jsoncanon\n",
        "multiformats\n",
        "jsonpatch"
      ],
      "metadata": {
        "id": "20asuK3OvagJ",
        "colab": {
          "base_uri": "https://localhost:8080/"
        },
        "outputId": "87a9e731-e546-406b-b6cc-9da14ca9e11e"
      },
      "execution_count": null,
      "outputs": [
        {
          "output_type": "stream",
          "name": "stdout",
          "text": [
            "Writing requirements.txt\n"
          ]
        }
      ]
    },
    {
      "cell_type": "code",
      "source": [
        "!pip install -qq -r requirements.txt"
      ],
      "metadata": {
        "id": "afHSq5RivNfH",
        "colab": {
          "base_uri": "https://localhost:8080/"
        },
        "outputId": "3c3a2d34-cbe7-4aaa-8521-582d32f0d0dd"
      },
      "execution_count": null,
      "outputs": [
        {
          "output_type": "stream",
          "name": "stdout",
          "text": [
            "\u001b[2K     \u001b[90m━━━━━━━━━━━━━━━━━━━━━━━━━━━━━━━━━━━━━━━━\u001b[0m \u001b[32m3.9/3.9 MB\u001b[0m \u001b[31m4.0 MB/s\u001b[0m eta \u001b[36m0:00:00\u001b[0m\n",
            "\u001b[2K     \u001b[90m━━━━━━━━━━━━━━━━━━━━━━━━━━━━━━━━━━━━━━━━\u001b[0m \u001b[32m57.1/57.1 kB\u001b[0m \u001b[31m4.5 MB/s\u001b[0m eta \u001b[36m0:00:00\u001b[0m\n",
            "\u001b[?25h"
          ]
        }
      ]
    },
    {
      "cell_type": "code",
      "source": [
        "## https://github.com/TheSDEs/trustdidweb-py/blob/main/demo.py\n",
        "!python3 demo.py 1st.technology"
      ],
      "metadata": {
        "id": "WhXptjmOOx9b",
        "colab": {
          "base_uri": "https://localhost:8080/"
        },
        "outputId": "ed690cda-50e8-4824-e5e9-8347b503b8f3"
      },
      "execution_count": null,
      "outputs": [
        {
          "output_type": "stream",
          "name": "stdout",
          "text": [
            "Provisioned DID: did:tdw:1st.technology:jyfet4ikhndit2lmtu7lqmbzny2f\n",
            "Wrote document v2\n",
            "Wrote document v3\n",
            "Wrote did-configuration.json\n"
          ]
        }
      ]
    },
    {
      "cell_type": "code",
      "source": [
        "## !python3 demo.py vspace.vote ## perf_check:True\n",
        "!mv demo.py demo0.py"
      ],
      "metadata": {
        "id": "bltMaPs5O3n5"
      },
      "execution_count": null,
      "outputs": []
    },
    {
      "cell_type": "markdown",
      "source": [
        "### Custom Params"
      ],
      "metadata": {
        "id": "ffG5jmL-WRPP"
      }
    },
    {
      "cell_type": "code",
      "source": [
        "%%writefile demo.py\n",
        "## Inspired by REF: https://github.com/TheSDEs/trustdidweb-py/blob/main/demo.py\n",
        "import asyncio\n",
        "import json\n",
        "import pandas as pd\n",
        "import matplotlib.pyplot as plt\n",
        "from datetime import datetime\n",
        "from pathlib import Path\n",
        "from sys import argv\n",
        "from time import perf_counter\n",
        "import aries_askar\n",
        "from did_history.did import SCID_PLACEHOLDER\n",
        "from did_history.date_utils import make_timestamp\n",
        "from did_history.state import DocumentState\n",
        "from did_tdw.const import ASKAR_STORE_FILENAME, HISTORY_FILENAME\n",
        "from did_tdw.history import load_history_path, update_document_state, write_document_state\n",
        "from did_tdw.proof import AskarSigningKey, SigningKey, di_jcs_sign_raw\n",
        "from did_tdw.provision import auto_provision_did\n",
        "\n",
        "# Function to create a pandas DataFrame, plot, and save the plot\n",
        "def create_dataframe_and_plot(performance_results, filename_prefix):\n",
        "    # Create a DataFrame\n",
        "    df = pd.DataFrame(performance_results)\n",
        "    print(df)\n",
        "\n",
        "    # Save DataFrame to CSV\n",
        "    csv_filename = f\"{filename_prefix}_performance_results.csv\"\n",
        "    df.to_csv(csv_filename, index=False)\n",
        "    print(f\"Saved DataFrame to {csv_filename}\")\n",
        "\n",
        "    # Plotting\n",
        "    fig, ax = plt.subplots(figsize=(12, 8))\n",
        "    for key, grp in df.groupby(['Range', 'Key Algorithm', 'Hash Algorithm']):\n",
        "        ax.bar(grp.index, grp['Update Duration'].str.replace(' seconds', '').astype(float), label=f\"Range: {key[0]}, Key: {key[1]}, Hash: {key[2]}\")\n",
        "    ax.set_xlabel('Test Case')\n",
        "    ax.set_ylabel('Duration (seconds)')\n",
        "    ax.set_title('Performance Comparison')\n",
        "    ax.legend(bbox_to_anchor=(1.05, 1), loc='upper left')\n",
        "\n",
        "    # Save plot to image file\n",
        "    image_filename = f\"{filename_prefix}_performance_plot.png\"\n",
        "    plt.savefig(image_filename, bbox_inches='tight')\n",
        "    print(f\"Saved plot to {image_filename}\")\n",
        "\n",
        "    # Show plot\n",
        "    plt.show()\n",
        "\n",
        "def create_did_configuration(did: str, origin: str, sk: SigningKey, timestamp: datetime = None) -> dict:\n",
        "    _, timestamp = make_timestamp(timestamp)\n",
        "    vc = {\n",
        "        \"@context\": [\n",
        "            \"https://www.w3.org/ns/credentials/v2\",\n",
        "            \"https://identity.foundation/.well-known/did-configuration/v1\",\n",
        "        ],\n",
        "        \"issuer\": did,\n",
        "        \"validFrom\": timestamp,\n",
        "        \"type\": [\"VerifiableCredential\", \"DomainLinkageCredential\"],\n",
        "        \"credentialSubject\": {\n",
        "            \"id\": did,\n",
        "            \"origin\": origin,\n",
        "        },\n",
        "    }\n",
        "    vc[\"proof\"] = di_jcs_sign_raw(vc, sk, \"assertionMethod\")\n",
        "    return {\n",
        "        \"@context\": \"https://identity.foundation/.well-known/did-configuration/v1\",\n",
        "        \"linked_dids\": [vc],\n",
        "    }\n",
        "\n",
        "def log_document_state(doc_dir: Path, state: DocumentState):\n",
        "    pretty = json.dumps(state.document, indent=2)\n",
        "    with open(doc_dir.joinpath(f\"did-v{state.version_id}.json\"), \"w\") as out:\n",
        "        print(pretty, file=out)\n",
        "\n",
        "async def demo(domain: str, *, key_alg: str = None, params: dict = None, scid_length: int = None, perf_check: bool = True):\n",
        "    pass_key = \"password\"\n",
        "    key_alg = key_alg or \"ed25519\"\n",
        "    (doc_dir, state, genesis_key) = await auto_provision_did(\n",
        "        f\"did:tdw:{domain}:{SCID_PLACEHOLDER}\",\n",
        "        key_alg,\n",
        "        pass_key=pass_key,\n",
        "        extra_params=params,\n",
        "        scid_length=scid_length,\n",
        "    )\n",
        "\n",
        "    print(f\"Provisioned DID: {state.document_id}\")\n",
        "    log_document_state(doc_dir, state)\n",
        "    created = state.timestamp\n",
        "    store_path = doc_dir.joinpath(ASKAR_STORE_FILENAME)\n",
        "    store = await aries_askar.Store.open(f\"sqlite://{store_path}\", pass_key=pass_key)\n",
        "\n",
        "    if state.prerotation:\n",
        "        rotate_key_hash = state.next_key_hashes[0]\n",
        "        next_update_key = AskarSigningKey.generate(key_alg)\n",
        "        next_key_hash = state.generate_next_key_hash(next_update_key.multikey)\n",
        "        async with store.session() as session:\n",
        "            await session.insert_key(next_update_key.kid, next_update_key.key, tags={\"hash\": next_key_hash})\n",
        "            fetched = await session.fetch_all_keys(tag_filter={\"hash\": rotate_key_hash})\n",
        "            if not fetched:\n",
        "                raise ValueError(f\"Next update key not found in key store: {rotate_key_hash}\")\n",
        "            update_key = AskarSigningKey(fetched[0].key)\n",
        "        params_update = {\"updateKeys\": [update_key.multikey], \"nextKeyHashes\": [next_key_hash]}\n",
        "        state = update_document_state(state, genesis_key, params_update=params_update)\n",
        "        write_document_state(doc_dir, state)\n",
        "        log_document_state(doc_dir, state)\n",
        "        print(f\"Wrote document v{state.version_id}\")\n",
        "    else:\n",
        "        update_key = genesis_key\n",
        "\n",
        "    doc = state.document_copy()\n",
        "    auth_key = AskarSigningKey.generate(\"ed25519\")\n",
        "    auth_key.kid = doc[\"id\"] + \"#\" + auth_key.multikey\n",
        "    async with store.session() as session:\n",
        "        await session.insert_key(auth_key.multikey, auth_key.key)\n",
        "    doc = state.document_copy()\n",
        "    doc[\"@context\"].extend([\"https://identity.foundation/.well-known/did-configuration/v1\", \"https://identity.foundation/linked-vp/contexts/v1\"])\n",
        "    doc[\"authentication\"] = [auth_key.kid]\n",
        "    doc[\"assertionMethod\"] = [auth_key.kid]\n",
        "    doc[\"service\"] = [\n",
        "        {\"id\": doc[\"id\"] + \"#domain\", \"type\": \"LinkedDomains\", \"serviceEndpoint\": f\"https://{domain}\"},\n",
        "        {\"id\": doc[\"id\"] + \"#whois\", \"type\": \"LinkedVerifiablePresentation\", \"serviceEndpoint\": f\"https://{domain}/.well-known/whois.jsonld\"},\n",
        "    ]\n",
        "    state = update_document_state(state, update_key, document_update=doc)\n",
        "    write_document_state(doc_dir, state)\n",
        "    log_document_state(doc_dir, state)\n",
        "    print(f\"Wrote document v{state.version_id}\")\n",
        "    await store.close()\n",
        "\n",
        "    history_path = doc_dir.joinpath(HISTORY_FILENAME)\n",
        "    check_state, meta = await load_history_path(history_path)\n",
        "    assert check_state == state\n",
        "    assert meta.created == created\n",
        "    assert meta.updated == state.timestamp\n",
        "    assert meta.deactivated is False\n",
        "    if state.prerotation:\n",
        "        assert meta.version_id == 3\n",
        "    else:\n",
        "        assert meta.version_id == 2\n",
        "\n",
        "    did_conf = create_did_configuration(doc[\"id\"], f\"https://{domain}\", genesis_key)\n",
        "    with open(doc_dir.joinpath(\"did-configuration.json\"), \"w\") as outdc:\n",
        "        print(json.dumps(did_conf, indent=2), file=outdc)\n",
        "    print(\"Wrote did-configuration.json\")\n",
        "\n",
        "    if perf_check:\n",
        "        # ranges = [1, 10, 100, 1000, 10000, 100000, 1000000]\n",
        "        # ranges = [1000, 10000] #1, 10, 100, ..., 100000, 1000000\n",
        "        ranges = [1000000] #1, 10, 100, 1000, 10000, 100000,\n",
        "        # key_algs = ['p384', 'ed25519', 'secp256k1', 'crystals-kyber', 'crystals-dilithium']\n",
        "        key_algs = ['crystals-kyber']\n",
        "        # hashes = ['sha3-kmac', 'sha3-256', 'sha-512', 'sha-256', 'blake2']\n",
        "        hashes = ['blake2']\n",
        "        performance_results = []\n",
        "\n",
        "        for r in ranges:\n",
        "            for key_alg in key_algs:\n",
        "                for hash_alg in hashes:\n",
        "                    print(f\"Starting performance check for range: {r}, key_alg: {key_alg}, hash: {hash_alg}\")\n",
        "                    start = perf_counter()\n",
        "                    for i in range(r):\n",
        "                        doc[\"etc\"] = i\n",
        "                        state = update_document_state(state, update_key, document_update=doc)\n",
        "                        write_document_state(doc_dir, state)\n",
        "                    dur = perf_counter() - start\n",
        "                    performance_results.append({\n",
        "                        'Range': r,\n",
        "                        'Key Algorithm': key_alg,\n",
        "                        'Hash Algorithm': hash_alg,\n",
        "                        'Update Duration': f\"{dur:0.2f} seconds\"\n",
        "                    })\n",
        "\n",
        "                    start = perf_counter()\n",
        "                    latest, meta = await load_history_path(history_path)\n",
        "                    assert latest == state\n",
        "                    dur = perf_counter() - start\n",
        "                    performance_results.append({\n",
        "                        'Range': r,\n",
        "                        'Key Algorithm': key_alg,\n",
        "                        'Hash Algorithm': hash_alg,\n",
        "                        'Validate Duration': f\"{dur:0.2f} seconds\"\n",
        "                    })\n",
        "\n",
        "        # Call the function to create DataFrame and plot\n",
        "        create_dataframe_and_plot(performance_results, \"performance\")\n",
        "\n",
        "if __name__ == \"__main__\":\n",
        "    if len(argv) > 1:\n",
        "        domain = argv[1]\n",
        "    else:\n",
        "        domain = \"1st.technology\"\n",
        "    asyncio.run(demo(domain, key_alg=\"p384\", params={\"hash\": \"sha3-256\", \"prerotation\": True}))\n",
        "\n",
        "# Function to create DID configuration\n",
        "def create_did_configuration(did: str, origin: str, sk: SigningKey, timestamp: datetime = None) -> dict:\n",
        "    _, timestamp = make_timestamp(timestamp)\n",
        "    vc = {\n",
        "        \"@context\": [\n",
        "            \"https://www.w3.org/ns/credentials/v2\",\n",
        "            \"https://identity.foundation/.well-known/did-configuration/v1\",\n",
        "        ],\n",
        "        \"issuer\": did,\n",
        "        \"validFrom\": timestamp,\n",
        "        \"type\": [\"VerifiableCredential\", \"DomainLinkageCredential\"],\n",
        "        \"credentialSubject\": {\n",
        "            \"id\": did,\n",
        "            \"origin\": origin,\n",
        "        },\n",
        "    }\n",
        "    vc[\"proof\"] = di_jcs_sign_raw(vc, sk, \"assertionMethod\")\n",
        "    return {\n",
        "        \"@context\": \"https://identity.foundation/.well-known/did-configuration/v1\",\n",
        "        \"linked_dids\": [vc],\n",
        "    }\n",
        "\n",
        "# Function to log document state\n",
        "def log_document_state(doc_dir: Path, state: DocumentState):\n",
        "    pretty = json.dumps(state.document, indent=2)\n",
        "    with open(doc_dir.joinpath(f\"did-v{state.version_id}.json\"), \"w\") as out:\n",
        "        print(pretty, file=out)\n",
        "\n",
        "# ## For testing purposes, a new DID can be minted along with\n",
        "# ## a series of test updates applied using the included demo script:\n",
        "# !python3 demo.py vspace.vote ## perf_check:True"
      ],
      "metadata": {
        "id": "eds9S_EJP-Qz",
        "colab": {
          "base_uri": "https://localhost:8080/"
        },
        "outputId": "3a7e9027-0e49-4a45-b60c-b9743646febc"
      },
      "execution_count": null,
      "outputs": [
        {
          "output_type": "stream",
          "name": "stdout",
          "text": [
            "Writing demo.py\n"
          ]
        }
      ]
    },
    {
      "cell_type": "markdown",
      "source": [
        "## vSPACE SSI Analysis"
      ],
      "metadata": {
        "id": "D9dJj0ACJA41"
      }
    },
    {
      "cell_type": "markdown",
      "source": [
        "### Takes time ...!"
      ],
      "metadata": {
        "id": "XNN1xOfXV4N8"
      }
    },
    {
      "cell_type": "code",
      "source": [
        "# Provisioned DID: did:tdw:vspace.vote:vzvyryruihi2ucgxfqj4kq6pnypx\n",
        "# Wrote document v2\n",
        "# Wrote document v3\n",
        "# Wrote did-configuration.json\n",
        "# Starting performance check for range: 1000000, key_alg: crystals-kyber, hash: blake2\n",
        "#      Range   Key Algorithm Hash Algorithm  Update Duration Validate Duration\n",
        "# 0  1000000  crystals-kyber         blake2  4097.47 seconds               NaN\n",
        "# 1  1000000  crystals-kyber         blake2              NaN    428.62 seconds\n",
        "# Saved DataFrame to performance_performance_results.csv\n",
        "# Saved plot to performance_performance_plot.png\n",
        "# Figure(1200x800)\n",
        "# CPU times: user 20.2 s, sys: 2.89 s, total: 23.1 s\n",
        "# Wall time: 1h 15min 31s"
      ],
      "metadata": {
        "id": "be8eaVJ2o_SL"
      },
      "execution_count": null,
      "outputs": []
    },
    {
      "cell_type": "code",
      "source": [
        "%%time\n",
        "## For testing purposes, a new DID can be minted along with\n",
        "## a series of test updates applied using the included demo script:\n",
        "!python3 demo.py vspace.vote ## perf_check:True"
      ],
      "metadata": {
        "colab": {
          "base_uri": "https://localhost:8080/"
        },
        "id": "34U0_vwnVUY5",
        "outputId": "641cfd5c-c9f5-464f-e471-d153ad484653"
      },
      "execution_count": null,
      "outputs": [
        {
          "output_type": "stream",
          "name": "stdout",
          "text": [
            "Provisioned DID: did:tdw:vspace.vote:vzvyryruihi2ucgxfqj4kq6pnypx\n",
            "Wrote document v2\n",
            "Wrote document v3\n",
            "Wrote did-configuration.json\n",
            "Starting performance check for range: 1000000, key_alg: crystals-kyber, hash: blake2\n",
            "     Range   Key Algorithm Hash Algorithm  Update Duration Validate Duration\n",
            "0  1000000  crystals-kyber         blake2  4097.47 seconds               NaN\n",
            "1  1000000  crystals-kyber         blake2              NaN    428.62 seconds\n",
            "Saved DataFrame to performance_performance_results.csv\n",
            "Saved plot to performance_performance_plot.png\n",
            "Figure(1200x800)\n",
            "CPU times: user 20.2 s, sys: 2.89 s, total: 23.1 s\n",
            "Wall time: 1h 15min 31s\n"
          ]
        }
      ]
    },
    {
      "cell_type": "code",
      "source": [
        "# %%time\n",
        "# ## For testing purposes, a new DID can be minted along with\n",
        "# ## a series of test updates applied using the included demo script:\n",
        "# !python3 demo.py vspace.vote ## perf_check:True"
      ],
      "metadata": {
        "id": "k3hkWu_YP-Nh"
      },
      "execution_count": 30,
      "outputs": []
    },
    {
      "cell_type": "code",
      "source": [
        "# Provisioned DID: did:tdw:vspace.vote:o2ttyabdmpr7ywz2dc5p7q7ly4ae\n",
        "# Wrote document v2\n",
        "# Wrote document v3\n",
        "# Wrote did-configuration.json\n",
        "# Starting performance check for range: 1000, key_alg: p384, hash: sha3-kmac\n",
        "# Starting performance check for range: 1000, key_alg: p384, hash: sha3-256\n",
        "# Starting performance check for range: 1000, key_alg: p384, hash: sha-512\n",
        "# Starting performance check for range: 1000, key_alg: p384, hash: sha-256\n",
        "# Starting performance check for range: 1000, key_alg: p384, hash: blake2\n",
        "# Starting performance check for range: 1000, key_alg: ed25519, hash: sha3-kmac\n",
        "# Starting performance check for range: 1000, key_alg: ed25519, hash: sha3-256\n",
        "# Starting performance check for range: 1000, key_alg: ed25519, hash: sha-512\n",
        "# Starting performance check for range: 1000, key_alg: ed25519, hash: sha-256\n",
        "# Starting performance check for range: 1000, key_alg: ed25519, hash: blake2\n",
        "# Starting performance check for range: 1000, key_alg: secp256k1, hash: sha3-kmac\n",
        "# Starting performance check for range: 1000, key_alg: secp256k1, hash: sha3-256\n",
        "# Starting performance check for range: 1000, key_alg: secp256k1, hash: sha-512\n",
        "# Starting performance check for range: 1000, key_alg: secp256k1, hash: sha-256\n",
        "# Starting performance check for range: 1000, key_alg: secp256k1, hash: blake2\n",
        "# Starting performance check for range: 1000, key_alg: crystals-kyber, hash: sha3-kmac\n",
        "# Starting performance check for range: 1000, key_alg: crystals-kyber, hash: sha3-256\n",
        "# Starting performance check for range: 1000, key_alg: crystals-kyber, hash: sha-512\n",
        "# Starting performance check for range: 1000, key_alg: crystals-kyber, hash: sha-256\n",
        "# Starting performance check for range: 1000, key_alg: crystals-kyber, hash: blake2\n",
        "# Starting performance check for range: 1000, key_alg: crystals-dilithium, hash: sha3-kmac\n",
        "# Starting performance check for range: 1000, key_alg: crystals-dilithium, hash: sha3-256\n",
        "# Starting performance check for range: 1000, key_alg: crystals-dilithium, hash: sha-512\n",
        "# Starting performance check for range: 1000, key_alg: crystals-dilithium, hash: sha-256\n",
        "# Starting performance check for range: 1000, key_alg: crystals-dilithium, hash: blake2\n",
        "# Starting performance check for range: 10000, key_alg: p384, hash: sha3-kmac\n",
        "# Starting performance check for range: 10000, key_alg: p384, hash: sha3-256\n",
        "# Starting performance check for range: 10000, key_alg: p384, hash: sha-512\n",
        "# Starting performance check for range: 10000, key_alg: p384, hash: sha-256\n",
        "# Starting performance check for range: 10000, key_alg: p384, hash: blake2\n",
        "# Starting performance check for range: 10000, key_alg: ed25519, hash: sha3-kmac\n",
        "# Starting performance check for range: 10000, key_alg: ed25519, hash: sha3-256\n",
        "# Starting performance check for range: 10000, key_alg: ed25519, hash: sha-512\n",
        "# Starting performance check for range: 10000, key_alg: ed25519, hash: sha-256\n",
        "# Starting performance check for range: 10000, key_alg: ed25519, hash: blake2\n",
        "# Starting performance check for range: 10000, key_alg: secp256k1, hash: sha3-kmac\n",
        "# Starting performance check for range: 10000, key_alg: secp256k1, hash: sha3-256\n",
        "# Starting performance check for range: 10000, key_alg: secp256k1, hash: sha-512\n",
        "# Starting performance check for range: 10000, key_alg: secp256k1, hash: sha-256\n",
        "# Starting performance check for range: 10000, key_alg: secp256k1, hash: blake2\n",
        "# Starting performance check for range: 10000, key_alg: crystals-kyber, hash: sha3-kmac\n",
        "# Starting performance check for range: 10000, key_alg: crystals-kyber, hash: sha3-256\n",
        "# Starting performance check for range: 10000, key_alg: crystals-kyber, hash: sha-512\n",
        "# Starting performance check for range: 10000, key_alg: crystals-kyber, hash: sha-256\n",
        "# Starting performance check for range: 10000, key_alg: crystals-kyber, hash: blake2\n",
        "# Starting performance check for range: 10000, key_alg: crystals-dilithium, hash: sha3-kmac\n",
        "# Starting performance check for range: 10000, key_alg: crystals-dilithium, hash: sha3-256\n",
        "# Starting performance check for range: 10000, key_alg: crystals-dilithium, hash: sha-512\n",
        "# Starting performance check for range: 10000, key_alg: crystals-dilithium, hash: sha-256\n",
        "# Starting performance check for range: 10000, key_alg: crystals-dilithium, hash: blake2\n",
        "#     Range       Key Algorithm Hash Algorithm Update Duration Validate Duration\n",
        "# 0    1000                p384      sha3-kmac   10.62 seconds               NaN\n",
        "# 1    1000                p384      sha3-kmac             NaN      0.72 seconds\n",
        "# 2    1000                p384       sha3-256    3.97 seconds               NaN\n",
        "# 3    1000                p384       sha3-256             NaN      0.81 seconds\n",
        "# 4    1000                p384        sha-512    3.87 seconds               NaN\n",
        "# ..    ...                 ...            ...             ...               ...\n",
        "# 95  10000  crystals-dilithium        sha-512             NaN    108.58 seconds\n",
        "# 96  10000  crystals-dilithium        sha-256   40.78 seconds               NaN\n",
        "# 97  10000  crystals-dilithium        sha-256             NaN    112.07 seconds\n",
        "# 98  10000  crystals-dilithium         blake2   41.38 seconds               NaN\n",
        "# 99  10000  crystals-dilithium         blake2             NaN    118.47 seconds\n",
        "\n",
        "# [100 rows x 5 columns]\n",
        "# Saved DataFrame to performance_performance_results.csv\n",
        "# Saved plot to performance_performance_plot.png\n",
        "# Figure(1200x800)"
      ],
      "metadata": {
        "id": "ImGP1zc4VYXz"
      },
      "execution_count": 31,
      "outputs": []
    },
    {
      "cell_type": "code",
      "source": [
        "# from google.colab import files\n",
        "# files.download(image_filename)\n",
        "# image_filename = \"/content/trustdidweb-py/performance_performance_plot.png\"\n",
        "image_file_name = 'performance_performance_plot.png'\n",
        "# image_filename = \"{repo_dir_name}/performance_performance_plot.png\"\n",
        "image_file_url=f'{repo_dir_name}/{image_file_name}'\n",
        "files.download(image_file_url)"
      ],
      "metadata": {
        "id": "Jb_O0z8wYQkb",
        "colab": {
          "base_uri": "https://localhost:8080/",
          "height": 17
        },
        "outputId": "24778a88-4cba-4fdc-c89a-7f0a60dde736"
      },
      "execution_count": 32,
      "outputs": [
        {
          "output_type": "display_data",
          "data": {
            "text/plain": [
              "<IPython.core.display.Javascript object>"
            ],
            "application/javascript": [
              "\n",
              "    async function download(id, filename, size) {\n",
              "      if (!google.colab.kernel.accessAllowed) {\n",
              "        return;\n",
              "      }\n",
              "      const div = document.createElement('div');\n",
              "      const label = document.createElement('label');\n",
              "      label.textContent = `Downloading \"${filename}\": `;\n",
              "      div.appendChild(label);\n",
              "      const progress = document.createElement('progress');\n",
              "      progress.max = size;\n",
              "      div.appendChild(progress);\n",
              "      document.body.appendChild(div);\n",
              "\n",
              "      const buffers = [];\n",
              "      let downloaded = 0;\n",
              "\n",
              "      const channel = await google.colab.kernel.comms.open(id);\n",
              "      // Send a message to notify the kernel that we're ready.\n",
              "      channel.send({})\n",
              "\n",
              "      for await (const message of channel.messages) {\n",
              "        // Send a message to notify the kernel that we're ready.\n",
              "        channel.send({})\n",
              "        if (message.buffers) {\n",
              "          for (const buffer of message.buffers) {\n",
              "            buffers.push(buffer);\n",
              "            downloaded += buffer.byteLength;\n",
              "            progress.value = downloaded;\n",
              "          }\n",
              "        }\n",
              "      }\n",
              "      const blob = new Blob(buffers, {type: 'application/binary'});\n",
              "      const a = document.createElement('a');\n",
              "      a.href = window.URL.createObjectURL(blob);\n",
              "      a.download = filename;\n",
              "      div.appendChild(a);\n",
              "      a.click();\n",
              "      div.remove();\n",
              "    }\n",
              "  "
            ]
          },
          "metadata": {}
        },
        {
          "output_type": "display_data",
          "data": {
            "text/plain": [
              "<IPython.core.display.Javascript object>"
            ],
            "application/javascript": [
              "download(\"download_86fb5964-8461-4b0f-b58d-daa4688e0898\", \"performance_performance_plot.png\", 31477)"
            ]
          },
          "metadata": {}
        }
      ]
    },
    {
      "cell_type": "markdown",
      "source": [
        "### Metrics"
      ],
      "metadata": {
        "id": "eLJZZKRDWE-s"
      }
    },
    {
      "cell_type": "code",
      "source": [
        "# from google.colab import files\n",
        "# # Upload the image\n",
        "# uploaded = files.upload()\n",
        "\n",
        "# Display the image\n",
        "# from IPython.display import Image, display\n",
        "# Replace 'your_image.png' with the actual filename of your uploaded image\n",
        "# display(Image(filename='/content/your_image.jpg', width=600))\n",
        "# display(Image(filename='image_filename')) #, width=600))\n",
        "# display(Image(filename='/content/your_image.png', width=600))\n",
        "# display(Image(filename=image_filename, width=600))\n",
        "# /content/trustdidweb-py/performance_performance_plot.png\n",
        "# {root_dir}/performance_performance_plot.png\n",
        "# display(Image(filename=f'{root_dir_name}/{image_filename}', width=600))\n",
        "display(Image(filename=f'{repo_dir_name}/{image_file_name}', width=600))"
      ],
      "metadata": {
        "id": "vATTWHM-S5gU",
        "colab": {
          "base_uri": "https://localhost:8080/",
          "height": 303
        },
        "outputId": "b2377afd-0497-4bad-fb0c-51ddf785111f"
      },
      "execution_count": 33,
      "outputs": [
        {
          "output_type": "display_data",
          "data": {
            "image/png": "[encoded data removed]",
            "text/plain": [
              "<IPython.core.display.Image object>"
            ]
          },
          "metadata": {
            "image/png": {
              "width": 600
            }
          }
        }
      ]
    },
    {
      "cell_type": "code",
      "source": [
        "# from google.colab import files\n",
        "# files.download(csv_file_name)\n",
        "csv_file_name = 'performance_performance_results.csv'\n",
        "csv_file_url = f'{repo_dir_name}/{csv_file_name}'\n",
        "files.download(csv_file_url)"
      ],
      "metadata": {
        "id": "C5LHVeM0QQ0I",
        "colab": {
          "base_uri": "https://localhost:8080/",
          "height": 17
        },
        "outputId": "8f73e28a-054d-4262-c701-6b020577bba4"
      },
      "execution_count": 34,
      "outputs": [
        {
          "output_type": "display_data",
          "data": {
            "text/plain": [
              "<IPython.core.display.Javascript object>"
            ],
            "application/javascript": [
              "\n",
              "    async function download(id, filename, size) {\n",
              "      if (!google.colab.kernel.accessAllowed) {\n",
              "        return;\n",
              "      }\n",
              "      const div = document.createElement('div');\n",
              "      const label = document.createElement('label');\n",
              "      label.textContent = `Downloading \"${filename}\": `;\n",
              "      div.appendChild(label);\n",
              "      const progress = document.createElement('progress');\n",
              "      progress.max = size;\n",
              "      div.appendChild(progress);\n",
              "      document.body.appendChild(div);\n",
              "\n",
              "      const buffers = [];\n",
              "      let downloaded = 0;\n",
              "\n",
              "      const channel = await google.colab.kernel.comms.open(id);\n",
              "      // Send a message to notify the kernel that we're ready.\n",
              "      channel.send({})\n",
              "\n",
              "      for await (const message of channel.messages) {\n",
              "        // Send a message to notify the kernel that we're ready.\n",
              "        channel.send({})\n",
              "        if (message.buffers) {\n",
              "          for (const buffer of message.buffers) {\n",
              "            buffers.push(buffer);\n",
              "            downloaded += buffer.byteLength;\n",
              "            progress.value = downloaded;\n",
              "          }\n",
              "        }\n",
              "      }\n",
              "      const blob = new Blob(buffers, {type: 'application/binary'});\n",
              "      const a = document.createElement('a');\n",
              "      a.href = window.URL.createObjectURL(blob);\n",
              "      a.download = filename;\n",
              "      div.appendChild(a);\n",
              "      a.click();\n",
              "      div.remove();\n",
              "    }\n",
              "  "
            ]
          },
          "metadata": {}
        },
        {
          "output_type": "display_data",
          "data": {
            "text/plain": [
              "<IPython.core.display.Javascript object>"
            ],
            "application/javascript": [
              "download(\"download_ca906306-48bc-43cf-a385-313019f7090b\", \"performance_performance_results.csv\", 162)"
            ]
          },
          "metadata": {}
        }
      ]
    },
    {
      "cell_type": "code",
      "source": [
        "# from google.colab import files\n",
        "# import pandas as pd\n",
        "# from IPython.display import display, HTML\n",
        "## Read the CSV file into a DataFrame\n",
        "df = pd.read_csv(csv_file_name)\n",
        "# print(df)"
      ],
      "metadata": {
        "id": "S76v-0wxZhzV"
      },
      "execution_count": 35,
      "outputs": []
    },
    {
      "cell_type": "code",
      "source": [
        "# df"
      ],
      "metadata": {
        "id": "MV5qqIYQZqr6"
      },
      "execution_count": 36,
      "outputs": []
    },
    {
      "cell_type": "code",
      "source": [
        "## Display the DataFrame inline\n",
        "## Optionally, adjust display settings for better visualization\n",
        "pd.set_option('display.max_rows', 100)  # Adjust the number of rows to display\n",
        "pd.set_option('display.max_columns', None)  # Display all columns\n",
        "pd.set_option('display.width', 1000)  # Adjust the display width\n",
        "pd.set_option('display.colheader_justify', 'left')  # Left-align column headers\n",
        "\n",
        "## Display the DataFrame\n",
        "display(HTML(df.to_html()))"
      ],
      "metadata": {
        "id": "j9Rl7H1SZnEn",
        "colab": {
          "base_uri": "https://localhost:8080/",
          "height": 112
        },
        "outputId": "53a87ce9-d33f-4175-92e7-6f59d1fd99d3"
      },
      "execution_count": 37,
      "outputs": [
        {
          "output_type": "display_data",
          "data": {
            "text/plain": [
              "<IPython.core.display.HTML object>"
            ],
            "text/html": [
              "<table border=\"1\" class=\"dataframe\">\n",
              "  <thead>\n",
              "    <tr style=\"text-align: left;\">\n",
              "      <th></th>\n",
              "      <th>Range</th>\n",
              "      <th>Key Algorithm</th>\n",
              "      <th>Hash Algorithm</th>\n",
              "      <th>Update Duration</th>\n",
              "      <th>Validate Duration</th>\n",
              "    </tr>\n",
              "  </thead>\n",
              "  <tbody>\n",
              "    <tr>\n",
              "      <th>0</th>\n",
              "      <td>1000000</td>\n",
              "      <td>crystals-kyber</td>\n",
              "      <td>blake2</td>\n",
              "      <td>4097.47 seconds</td>\n",
              "      <td>NaN</td>\n",
              "    </tr>\n",
              "    <tr>\n",
              "      <th>1</th>\n",
              "      <td>1000000</td>\n",
              "      <td>crystals-kyber</td>\n",
              "      <td>blake2</td>\n",
              "      <td>NaN</td>\n",
              "      <td>428.62 seconds</td>\n",
              "    </tr>\n",
              "  </tbody>\n",
              "</table>"
            ]
          },
          "metadata": {}
        }
      ]
    },
    {
      "cell_type": "code",
      "source": [
        "# import pandas as pd\n",
        "## Read the CSV file into a DataFrame\n",
        "df = pd.read_csv(csv_file_name)\n",
        "\n",
        "## Convert 'Update Duration' and 'Validate Duration' to numeric values\n",
        "df['Update Duration'] = df['Update Duration'].str.replace(' seconds', '').astype(float)\n",
        "df['Validate Duration'] = df['Validate Duration'].str.replace(' seconds', '').astype(float)\n",
        "\n",
        "## Summarize key findings\n",
        "summary = df.groupby(['Range', 'Key Algorithm', 'Hash Algorithm']).agg({\n",
        "    'Update Duration': ['mean', 'std', 'min', 'max'],\n",
        "    'Validate Duration': ['mean', 'std', 'min', 'max']\n",
        "}).reset_index()\n",
        "\n",
        "## Print the summarized DataFrame\n",
        "# print(summary)\n",
        "\n",
        "## Display the summarized DataFrame inline\n",
        "# display(HTML(summary.to_html()))"
      ],
      "metadata": {
        "id": "Z2bbnn95X7qB"
      },
      "execution_count": 38,
      "outputs": []
    },
    {
      "cell_type": "code",
      "source": [
        "# Fill missing values with 0\n",
        "summary = summary.fillna(0)\n",
        "\n",
        "# Plotting the summarized data for update duration\n",
        "fig, ax = plt.subplots(figsize=(12, 8))\n",
        "for key, grp in summary.groupby(['Range', 'Key Algorithm']):\n",
        "    ax.errorbar(grp['Hash Algorithm'], grp[('Update Duration', 'mean')], yerr=grp[('Update Duration', 'std')],\n",
        "                label=f\"Range: {key[0]}, Key: {key[1]}\", fmt='o', capsize=5)\n",
        "ax.set_xlabel('Hash Algorithm')\n",
        "ax.set_ylabel('Update Duration (seconds)')\n",
        "ax.set_title('Performance Comparison (Update Duration)')\n",
        "ax.legend(bbox_to_anchor=(1.05, 1), loc='upper left')\n",
        "\n",
        "# Save plot to image file\n",
        "# image_filename = f\"{filename_prefix}_update_duration_summary_plot.png\"\n",
        "image_filename = f\"{root_dir_name}_update_duration_summary_plot.png\"\n",
        "plt.savefig(image_filename, bbox_inches='tight')\n",
        "print(f\"Saved plot to {image_filename}\")\n",
        "\n",
        "# Show plot\n",
        "plt.show()"
      ],
      "metadata": {
        "id": "_1vmOKAZa471",
        "colab": {
          "base_uri": "https://localhost:8080/",
          "height": 699
        },
        "outputId": "20a38ffa-c629-492f-e42b-78bec0561447"
      },
      "execution_count": 39,
      "outputs": [
        {
          "output_type": "stream",
          "name": "stdout",
          "text": [
            "Saved plot to /content_update_duration_summary_plot.png\n"
          ]
        },
        {
          "output_type": "display_data",
          "data": {
            "text/plain": [
              "<Figure size 1200x800 with 1 Axes>"
            ],
            "image/png": "[encoded data removed]"
          },
          "metadata": {}
        }
      ]
    },
    {
      "cell_type": "code",
      "source": [
        "# files.download(image_filename)\n",
        "# image_filename = \"/content/trustdidweb-py/performance_performance_plot.png\"\n",
        "# image_file_name = 'performance_performance_plot.png'\n",
        "image_filename2 = f\"{root_dir_name}_update_duration_summary_plot.png\"\n",
        "# image_filename = \"{repo_dir_name}/performance_performance_plot.png\"\n",
        "image_file_url2=f'{image_filename2}'\n",
        "files.download(image_file_url2)"
      ],
      "metadata": {
        "id": "RPW4dwu1cnnJ",
        "colab": {
          "base_uri": "https://localhost:8080/",
          "height": 17
        },
        "outputId": "1865ee3b-a4d9-4b1b-a3a0-5f7cb3bd9310"
      },
      "execution_count": 40,
      "outputs": [
        {
          "output_type": "display_data",
          "data": {
            "text/plain": [
              "<IPython.core.display.Javascript object>"
            ],
            "application/javascript": [
              "\n",
              "    async function download(id, filename, size) {\n",
              "      if (!google.colab.kernel.accessAllowed) {\n",
              "        return;\n",
              "      }\n",
              "      const div = document.createElement('div');\n",
              "      const label = document.createElement('label');\n",
              "      label.textContent = `Downloading \"${filename}\": `;\n",
              "      div.appendChild(label);\n",
              "      const progress = document.createElement('progress');\n",
              "      progress.max = size;\n",
              "      div.appendChild(progress);\n",
              "      document.body.appendChild(div);\n",
              "\n",
              "      const buffers = [];\n",
              "      let downloaded = 0;\n",
              "\n",
              "      const channel = await google.colab.kernel.comms.open(id);\n",
              "      // Send a message to notify the kernel that we're ready.\n",
              "      channel.send({})\n",
              "\n",
              "      for await (const message of channel.messages) {\n",
              "        // Send a message to notify the kernel that we're ready.\n",
              "        channel.send({})\n",
              "        if (message.buffers) {\n",
              "          for (const buffer of message.buffers) {\n",
              "            buffers.push(buffer);\n",
              "            downloaded += buffer.byteLength;\n",
              "            progress.value = downloaded;\n",
              "          }\n",
              "        }\n",
              "      }\n",
              "      const blob = new Blob(buffers, {type: 'application/binary'});\n",
              "      const a = document.createElement('a');\n",
              "      a.href = window.URL.createObjectURL(blob);\n",
              "      a.download = filename;\n",
              "      div.appendChild(a);\n",
              "      a.click();\n",
              "      div.remove();\n",
              "    }\n",
              "  "
            ]
          },
          "metadata": {}
        },
        {
          "output_type": "display_data",
          "data": {
            "text/plain": [
              "<IPython.core.display.Javascript object>"
            ],
            "application/javascript": [
              "download(\"download_f86f8ee7-2099-4f43-9228-07ea0a94f0ae\", \"content_update_duration_summary_plot.png\", 31379)"
            ]
          },
          "metadata": {}
        }
      ]
    },
    {
      "cell_type": "code",
      "source": [
        "# Plotting the summarized data for validation duration\n",
        "fig, ax = plt.subplots(figsize=(12, 8))\n",
        "for key, grp in summary.groupby(['Range', 'Key Algorithm']):\n",
        "    ax.errorbar(grp['Hash Algorithm'], grp[('Validate Duration', 'mean')], yerr=grp[('Validate Duration', 'std')],\n",
        "                label=f\"Range: {key[0]}, Key: {key[1]}\", fmt='o', capsize=5)\n",
        "ax.set_xlabel('Hash Algorithm')\n",
        "ax.set_ylabel('Validate Duration (seconds)')\n",
        "ax.set_title('Performance Comparison (Validate Duration)')\n",
        "ax.legend(bbox_to_anchor=(1.05, 1), loc='upper left')\n",
        "\n",
        "# Save plot to image file\n",
        "# image_filename = f\"{filename_prefix}_validate_duration_summary_plot.png\"\n",
        "image_filename = f\"{root_dir_name}_validate_duration_summary_plot.png\"\n",
        "plt.savefig(image_filename, bbox_inches='tight')\n",
        "print(f\"Saved plot to {image_filename}\")\n",
        "\n",
        "# Show plot\n",
        "plt.show()"
      ],
      "metadata": {
        "id": "JBEbdZ2jbAMe",
        "colab": {
          "base_uri": "https://localhost:8080/",
          "height": 703
        },
        "outputId": "e249ee3f-da2c-4147-f2c3-29ae391ef4ec"
      },
      "execution_count": 41,
      "outputs": [
        {
          "output_type": "stream",
          "name": "stdout",
          "text": [
            "Saved plot to /content_validate_duration_summary_plot.png\n"
          ]
        },
        {
          "output_type": "display_data",
          "data": {
            "text/plain": [
              "<Figure size 1200x800 with 1 Axes>"
            ],
            "image/png": "[encoded data removed]"
          },
          "metadata": {}
        }
      ]
    },
    {
      "cell_type": "code",
      "source": [
        "# files.download(image_filename)\n",
        "# image_filename = \"/content/trustdidweb-py/performance_performance_plot.png\"\n",
        "# image_file_name = 'performance_performance_plot.png'\n",
        "image_filename3 = f\"{root_dir_name}_validate_duration_summary_plot.png\"\n",
        "# image_filename = \"{repo_dir_name}/performance_performance_plot.png\"\n",
        "image_file_url3=f'{image_filename3}'\n",
        "files.download(image_file_url3)"
      ],
      "metadata": {
        "id": "5G58ZsO-bAJI",
        "colab": {
          "base_uri": "https://localhost:8080/",
          "height": 17
        },
        "outputId": "b77286db-3c69-4a50-c7f5-b89e34f61c10"
      },
      "execution_count": 42,
      "outputs": [
        {
          "output_type": "display_data",
          "data": {
            "text/plain": [
              "<IPython.core.display.Javascript object>"
            ],
            "application/javascript": [
              "\n",
              "    async function download(id, filename, size) {\n",
              "      if (!google.colab.kernel.accessAllowed) {\n",
              "        return;\n",
              "      }\n",
              "      const div = document.createElement('div');\n",
              "      const label = document.createElement('label');\n",
              "      label.textContent = `Downloading \"${filename}\": `;\n",
              "      div.appendChild(label);\n",
              "      const progress = document.createElement('progress');\n",
              "      progress.max = size;\n",
              "      div.appendChild(progress);\n",
              "      document.body.appendChild(div);\n",
              "\n",
              "      const buffers = [];\n",
              "      let downloaded = 0;\n",
              "\n",
              "      const channel = await google.colab.kernel.comms.open(id);\n",
              "      // Send a message to notify the kernel that we're ready.\n",
              "      channel.send({})\n",
              "\n",
              "      for await (const message of channel.messages) {\n",
              "        // Send a message to notify the kernel that we're ready.\n",
              "        channel.send({})\n",
              "        if (message.buffers) {\n",
              "          for (const buffer of message.buffers) {\n",
              "            buffers.push(buffer);\n",
              "            downloaded += buffer.byteLength;\n",
              "            progress.value = downloaded;\n",
              "          }\n",
              "        }\n",
              "      }\n",
              "      const blob = new Blob(buffers, {type: 'application/binary'});\n",
              "      const a = document.createElement('a');\n",
              "      a.href = window.URL.createObjectURL(blob);\n",
              "      a.download = filename;\n",
              "      div.appendChild(a);\n",
              "      a.click();\n",
              "      div.remove();\n",
              "    }\n",
              "  "
            ]
          },
          "metadata": {}
        },
        {
          "output_type": "display_data",
          "data": {
            "text/plain": [
              "<IPython.core.display.Javascript object>"
            ],
            "application/javascript": [
              "download(\"download_56d0c576-be84-4034-822b-fa8840c4f3b7\", \"content_validate_duration_summary_plot.png\", 30197)"
            ]
          },
          "metadata": {}
        }
      ]
    },
    {
      "cell_type": "markdown",
      "source": [
        "## Key Findings, Comparisons, and Recommendations:\n",
        "\n",
        "### Key Findings:\n",
        "\n",
        "1. Performance Comparison:\n",
        "   The study evaluated different key algorithms (p384, ed25519, secp256k1, crystals-kyber, crystals-dilithium) and hash algorithms (sha3-kmac, sha3-256, sha-512, sha-256, blake2) across two ranges (1000 and 10000 operations).\n",
        "\n",
        "2. Update Duration:\n",
        "   - For the 1000 range, update durations varied from about 3.6 to 10.6 seconds.\n",
        "   - For the 10000 range, update durations were consistently around 40-43 seconds across all algorithms.\n",
        "\n",
        "3. Validate Duration:\n",
        "   - Validation times increased significantly with the range, from about 0.7-10.6 seconds for 1000 operations to 14.6-118.5 seconds for 10000 operations.\n",
        "   - Validation times varied more widely between algorithms compared to update times.\n",
        "\n",
        "4. Algorithm Performance:\n",
        "   - P384 and ed25519 generally showed faster validation times.\n",
        "   - Crystals-dilithium consistently had the longest validation times.\n",
        "\n",
        "### Recommendations:\n",
        "\n",
        "1. Algorithm Selection:\n",
        "   - For smaller-scale operations (around 1000), consider using p384 or ed25519 with sha3-256 or sha-512, as they offer a good balance of update and validate performance.\n",
        "   - For larger-scale operations, the choice of key algorithm becomes less critical for update performance, but p384 and ed25519 still offer advantages in validation speed.\n",
        "\n",
        "2. Scalability Considerations:\n",
        "   - The system scales well for updates, with minimal performance degradation as the number of operations increases.\n",
        "   - However, validation times increase significantly with scale. Consider implementing parallel processing or caching strategies for validation in large-scale deployments.\n",
        "\n",
        "3. Trade-offs:\n",
        "   - While crystals-dilithium offers potential quantum resistance, its significantly longer validation times may impact system responsiveness. Carefully weigh the need for quantum resistance against performance requirements.\n",
        "\n",
        "4. Hash Algorithm:\n",
        "   - SHA3-256 and SHA-512 generally perform well across different key algorithms. Consider standardizing on one of these for consistency and good performance.\n",
        "\n",
        "### Future Directions:\n",
        "\n",
        "1. Extended Testing:\n",
        "   - Conduct tests with even larger ranges (100,000+) to understand system behavior at extreme scales.\n",
        "   - Perform long-term stability tests to ensure consistent performance over time.\n",
        "\n",
        "2. Real-world Scenarios:\n",
        "   - Test the system under various real-world load patterns to ensure it meets specific use case requirements.\n",
        "\n",
        "3. Optimization:\n",
        "   - Investigate optimization techniques for validation processes, especially for quantum-resistant algorithms like crystals-dilithium.\n",
        "\n",
        "4. Security Analysis:\n",
        "   - Conduct thorough security audits to ensure that performance optimizations don't compromise the system's security properties.\n",
        "\n",
        "5. Hybrid Approaches:\n",
        "   - Explore hybrid systems that can switch between classical and quantum-resistant algorithms based on the specific needs of different operations or threat models.\n",
        "\n",
        "6. Monitoring and Adaptive Systems:\n",
        "   - Develop robust monitoring tools to track system performance in real-time.\n",
        "   - Consider implementing adaptive systems that can automatically adjust algorithm choices based on current load and security requirements.\n",
        "\n",
        "*By carefully considering these findings and recommendations, decision-makers can make informed choices to build a Scalable Privacy-Aware and Confidential EMS/SSI that balances performance, security, and future-readiness.*"
      ],
      "metadata": {
        "id": "EeQPAM3vhsvT"
      }
    },
    {
      "cell_type": "code",
      "source": [
        "# Create the zip file with date-time appended to the filename\n",
        "!zip -r {root_dir_name}/{filename} . #/content/trustdidweb-py/"
      ],
      "metadata": {
        "id": "exxdFqUscmMs",
        "colab": {
          "base_uri": "https://localhost:8080/"
        },
        "outputId": "3815c30a-e8d1-47a7-c3c4-eeb513467667"
      },
      "execution_count": 43,
      "outputs": [
        {
          "output_type": "stream",
          "name": "stdout",
          "text": [
            "  adding: did_tdw/ (stored 0%)\n",
            "  adding: did_tdw/__pycache__/ (stored 0%)\n",
            "  adding: did_tdw/__pycache__/provision.cpython-310.pyc (deflated 38%)\n",
            "  adding: did_tdw/__pycache__/const.cpython-310.pyc (deflated 19%)\n",
            "  adding: did_tdw/__pycache__/proof.cpython-310.pyc (deflated 51%)\n",
            "  adding: did_tdw/__pycache__/__init__.cpython-310.pyc (deflated 25%)\n",
            "  adding: did_tdw/__pycache__/history.cpython-310.pyc (deflated 38%)\n",
            "  adding: did_tdw/resolver.py (deflated 71%)\n",
            "  adding: did_tdw/tests/ (stored 0%)\n",
            "  adding: did_tdw/tests/test_document_id.py (deflated 75%)\n",
            "  adding: did_tdw/update.py (deflated 65%)\n",
            "  adding: did_tdw/const.py (deflated 19%)\n",
            "  adding: did_tdw/proof.py (deflated 72%)\n",
            "  adding: did_tdw/provision.py (deflated 64%)\n",
            "  adding: did_tdw/history.py (deflated 63%)\n",
            "  adding: did_tdw/__init__.py (stored 0%)\n",
            "  adding: README.md (deflated 55%)\n",
            "  adding: demo0.py (deflated 70%)\n",
            "  adding: did:tdw:1st.technology:jyfet4ikhndit2lmtu7lqmbzny2f/ (stored 0%)\n",
            "  adding: did:tdw:1st.technology:jyfet4ikhndit2lmtu7lqmbzny2f/keys.sqlite (deflated 92%)\n",
            "  adding: did:tdw:1st.technology:jyfet4ikhndit2lmtu7lqmbzny2f/did-v1.json (deflated 20%)\n",
            "  adding: did:tdw:1st.technology:jyfet4ikhndit2lmtu7lqmbzny2f/did.jsonl (deflated 64%)\n",
            "  adding: did:tdw:1st.technology:jyfet4ikhndit2lmtu7lqmbzny2f/did-v2.json (deflated 20%)\n",
            "  adding: did:tdw:1st.technology:jyfet4ikhndit2lmtu7lqmbzny2f/did-v3.json (deflated 63%)\n",
            "  adding: did:tdw:1st.technology:jyfet4ikhndit2lmtu7lqmbzny2f/did-configuration.json (deflated 51%)\n",
            "  adding: LICENSE (deflated 65%)\n",
            "  adding: requirements.txt (deflated 11%)\n",
            "  adding: requirements0.txt (deflated 14%)\n",
            "  adding: did:tdw:vspace.vote:vzvyryruihi2ucgxfqj4kq6pnypx/ (stored 0%)\n",
            "  adding: did:tdw:vspace.vote:vzvyryruihi2ucgxfqj4kq6pnypx/keys.sqlite (deflated 92%)\n",
            "  adding: did:tdw:vspace.vote:vzvyryruihi2ucgxfqj4kq6pnypx/did-v1.json (deflated 20%)\n",
            "  adding: did:tdw:vspace.vote:vzvyryruihi2ucgxfqj4kq6pnypx/did.jsonl (deflated 77%)\n",
            "  adding: did:tdw:vspace.vote:vzvyryruihi2ucgxfqj4kq6pnypx/did-v2.json (deflated 20%)\n",
            "  adding: did:tdw:vspace.vote:vzvyryruihi2ucgxfqj4kq6pnypx/did-v3.json (deflated 62%)\n",
            "  adding: did:tdw:vspace.vote:vzvyryruihi2ucgxfqj4kq6pnypx/did-configuration.json (deflated 51%)\n",
            "  adding: did_history/ (stored 0%)\n",
            "  adding: did_history/__pycache__/ (stored 0%)\n",
            "  adding: did_history/__pycache__/loader.cpython-310.pyc (deflated 37%)\n",
            "  adding: did_history/__pycache__/resolver.cpython-310.pyc (deflated 46%)\n",
            "  adding: did_history/__pycache__/key.cpython-310.pyc (deflated 37%)\n",
            "  adding: did_history/__pycache__/__init__.cpython-310.pyc (deflated 21%)\n",
            "  adding: did_history/__pycache__/did.cpython-310.pyc (deflated 43%)\n",
            "  adding: did_history/__pycache__/state.cpython-310.pyc (deflated 54%)\n",
            "  adding: did_history/__pycache__/format.cpython-310.pyc (deflated 35%)\n",
            "  adding: did_history/__pycache__/date_utils.cpython-310.pyc (deflated 35%)\n",
            "  adding: did_history/key.py (deflated 53%)\n",
            "  adding: did_history/resolver.py (deflated 72%)\n",
            "  adding: did_history/loader.py (deflated 69%)\n",
            "  adding: did_history/state.py (deflated 79%)\n",
            "  adding: did_history/format.py (deflated 33%)\n",
            "  adding: did_history/date_utils.py (deflated 57%)\n",
            "  adding: did_history/did.py (deflated 60%)\n",
            "  adding: did_history/__init__.py (deflated 30%)\n",
            "  adding: performance_performance_results.csv (deflated 35%)\n",
            "  adding: sample-diddoc/ (stored 0%)\n",
            "  adding: sample-diddoc/keys.sqlite (deflated 92%)\n",
            "  adding: sample-diddoc/did-v1.json (deflated 20%)\n",
            "  adding: sample-diddoc/did.jsonl (deflated 64%)\n",
            "  adding: sample-diddoc/did-v2.json (deflated 20%)\n",
            "  adding: sample-diddoc/did-v3.json (deflated 63%)\n",
            "  adding: sample-diddoc/did-configuration.json (deflated 52%)\n",
            "  adding: CONTRIBUTING.md (deflated 52%)\n",
            "  adding: demo.py (deflated 71%)\n",
            "  adding: setup.cfg (deflated 17%)\n",
            "  adding: performance_performance_plot.png (deflated 28%)\n",
            "  adding: .git/ (stored 0%)\n",
            "  adding: .git/HEAD (stored 0%)\n",
            "  adding: .git/hooks/ (stored 0%)\n",
            "  adding: .git/hooks/prepare-commit-msg.sample (deflated 50%)\n",
            "  adding: .git/hooks/pre-push.sample (deflated 49%)\n",
            "  adding: .git/hooks/commit-msg.sample (deflated 44%)\n",
            "  adding: .git/hooks/pre-rebase.sample (deflated 59%)\n",
            "  adding: .git/hooks/pre-merge-commit.sample (deflated 39%)\n",
            "  adding: .git/hooks/applypatch-msg.sample (deflated 42%)\n",
            "  adding: .git/hooks/pre-applypatch.sample (deflated 38%)\n",
            "  adding: .git/hooks/fsmonitor-watchman.sample (deflated 62%)\n",
            "  adding: .git/hooks/pre-receive.sample (deflated 40%)\n",
            "  adding: .git/hooks/push-to-checkout.sample (deflated 55%)\n",
            "  adding: .git/hooks/pre-commit.sample (deflated 45%)\n",
            "  adding: .git/hooks/post-update.sample (deflated 27%)\n",
            "  adding: .git/hooks/update.sample (deflated 68%)\n",
            "  adding: .git/objects/ (stored 0%)\n",
            "  adding: .git/objects/info/ (stored 0%)\n",
            "  adding: .git/objects/pack/ (stored 0%)\n",
            "  adding: .git/objects/pack/pack-a7c770c650c0d2e508c77004718b46793c231d30.idx (deflated 5%)\n",
            "  adding: .git/objects/pack/pack-a7c770c650c0d2e508c77004718b46793c231d30.pack (deflated 3%)\n",
            "  adding: .git/index (deflated 48%)\n",
            "  adding: .git/description (deflated 14%)\n",
            "  adding: .git/config (deflated 32%)\n",
            "  adding: .git/packed-refs (deflated 9%)\n",
            "  adding: .git/info/ (stored 0%)\n",
            "  adding: .git/info/exclude (deflated 28%)\n",
            "  adding: .git/refs/ (stored 0%)\n",
            "  adding: .git/refs/remotes/ (stored 0%)\n",
            "  adding: .git/refs/remotes/origin/ (stored 0%)\n",
            "  adding: .git/refs/remotes/origin/HEAD (stored 0%)\n",
            "  adding: .git/refs/tags/ (stored 0%)\n",
            "  adding: .git/refs/heads/ (stored 0%)\n",
            "  adding: .git/refs/heads/main (stored 0%)\n",
            "  adding: .git/logs/ (stored 0%)\n",
            "  adding: .git/logs/HEAD (deflated 25%)\n",
            "  adding: .git/logs/refs/ (stored 0%)\n",
            "  adding: .git/logs/refs/remotes/ (stored 0%)\n",
            "  adding: .git/logs/refs/remotes/origin/ (stored 0%)\n",
            "  adding: .git/logs/refs/remotes/origin/HEAD (deflated 25%)\n",
            "  adding: .git/logs/refs/heads/ (stored 0%)\n",
            "  adding: .git/logs/refs/heads/main (deflated 25%)\n",
            "  adding: .git/branches/ (stored 0%)\n",
            "  adding: .gitignore (stored 0%)\n",
            "  adding: sample-anoncreds/ (stored 0%)\n",
            "  adding: sample-anoncreds/creddef:tag:1pmrg65tfojwgc6kjmqrduite.vc (deflated 49%)\n",
            "  adding: sample-anoncreds/schema:verified-person:1.0.0:pmrgc5duojhgc3lfomrduwzc.vc (deflated 55%)\n",
            "  adding: sample-anoncreds/revregdef:tag:snyz6nkajsz3kmmittnjwv7l.vc (deflated 56%)\n",
            "  adding: sample-anoncreds/anoncreds-context.json (deflated 69%)\n",
            "  adding: sample-anoncreds/revstatus:tag:snyz6nkajsz3kmmittnjwv7l:latest.vc (deflated 59%)\n"
          ]
        }
      ]
    },
    {
      "cell_type": "code",
      "source": [
        "## Download the file\n",
        "# from google.colab import files\n",
        "files.download(f\"{root_dir_name}/{filename}\")\n",
        "# files.download(csv_filename)\n",
        "# files.download(image_filename)"
      ],
      "metadata": {
        "id": "pyuixQascmJo",
        "colab": {
          "base_uri": "https://localhost:8080/",
          "height": 17
        },
        "outputId": "de8eb054-08e7-4fb1-ef07-80c1c4416755"
      },
      "execution_count": 44,
      "outputs": [
        {
          "output_type": "display_data",
          "data": {
            "text/plain": [
              "<IPython.core.display.Javascript object>"
            ],
            "application/javascript": [
              "\n",
              "    async function download(id, filename, size) {\n",
              "      if (!google.colab.kernel.accessAllowed) {\n",
              "        return;\n",
              "      }\n",
              "      const div = document.createElement('div');\n",
              "      const label = document.createElement('label');\n",
              "      label.textContent = `Downloading \"${filename}\": `;\n",
              "      div.appendChild(label);\n",
              "      const progress = document.createElement('progress');\n",
              "      progress.max = size;\n",
              "      div.appendChild(progress);\n",
              "      document.body.appendChild(div);\n",
              "\n",
              "      const buffers = [];\n",
              "      let downloaded = 0;\n",
              "\n",
              "      const channel = await google.colab.kernel.comms.open(id);\n",
              "      // Send a message to notify the kernel that we're ready.\n",
              "      channel.send({})\n",
              "\n",
              "      for await (const message of channel.messages) {\n",
              "        // Send a message to notify the kernel that we're ready.\n",
              "        channel.send({})\n",
              "        if (message.buffers) {\n",
              "          for (const buffer of message.buffers) {\n",
              "            buffers.push(buffer);\n",
              "            downloaded += buffer.byteLength;\n",
              "            progress.value = downloaded;\n",
              "          }\n",
              "        }\n",
              "      }\n",
              "      const blob = new Blob(buffers, {type: 'application/binary'});\n",
              "      const a = document.createElement('a');\n",
              "      a.href = window.URL.createObjectURL(blob);\n",
              "      a.download = filename;\n",
              "      div.appendChild(a);\n",
              "      a.click();\n",
              "      div.remove();\n",
              "    }\n",
              "  "
            ]
          },
          "metadata": {}
        },
        {
          "output_type": "display_data",
          "data": {
            "text/plain": [
              "<IPython.core.display.Javascript object>"
            ],
            "application/javascript": [
              "download(\"download_7dd0051e-043a-4202-a729-2a169ee5894c\", \"1st_DID_TDW_20240625_170551.zip\", 158017994)"
            ]
          },
          "metadata": {}
        }
      ]
    },
    {
      "cell_type": "markdown",
      "source": [
        "## End Demo"
      ],
      "metadata": {
        "id": "DN33gKx-2Txx"
      }
    },
    {
      "cell_type": "markdown",
      "source": [
        "# AnonCreds 1.0 vs 2.0"
      ],
      "metadata": {
        "id": "fdmyisWsJn7-"
      }
    },
    {
      "cell_type": "code",
      "source": [
        "!wget https://github.com/TheSDEs/trustdidweb-py/blob/main/sample-anoncreds/creddef%3Atag%3A1pmrg65tfojwgc6kjmqrduite.vc\n",
        "!wget https://raw.githubusercontent.com/TheSDEs/trustdidweb-py/main/sample-anoncreds/schema%3Averified-person%3A1.0.0%3Apmrgc5duojhgc3lfomrduwzc.vc"
      ],
      "metadata": {
        "id": "UNIUSGyoLUCy",
        "colab": {
          "base_uri": "https://localhost:8080/"
        },
        "outputId": "687d8801-04dd-4e00-d424-684f3236e9eb"
      },
      "execution_count": 45,
      "outputs": [
        {
          "output_type": "stream",
          "name": "stdout",
          "text": [
            "--2024-06-25 19:15:30--  https://github.com/TheSDEs/trustdidweb-py/blob/main/sample-anoncreds/creddef%3Atag%3A1pmrg65tfojwgc6kjmqrduite.vc\n",
            "Resolving github.com (github.com)... 140.82.113.3\n",
            "Connecting to github.com (github.com)|140.82.113.3|:443... connected.\n",
            "HTTP request sent, awaiting response... 200 OK\n",
            "Length: unspecified [text/html]\n",
            "Saving to: ‘creddef:tag:1pmrg65tfojwgc6kjmqrduite.vc’\n",
            "\n",
            "creddef:tag:1pmrg65     [ <=>                ] 304.40K  --.-KB/s    in 0.1s    \n",
            "\n",
            "2024-06-25 19:15:30 (3.03 MB/s) - ‘creddef:tag:1pmrg65tfojwgc6kjmqrduite.vc’ saved [311708]\n",
            "\n",
            "--2024-06-25 19:15:30--  https://raw.githubusercontent.com/TheSDEs/trustdidweb-py/main/sample-anoncreds/schema%3Averified-person%3A1.0.0%3Apmrgc5duojhgc3lfomrduwzc.vc\n",
            "Resolving raw.githubusercontent.com (raw.githubusercontent.com)... 185.199.110.133, 185.199.111.133, 185.199.109.133, ...\n",
            "Connecting to raw.githubusercontent.com (raw.githubusercontent.com)|185.199.110.133|:443... connected.\n",
            "HTTP request sent, awaiting response... 200 OK\n",
            "Length: 1268 (1.2K) [text/plain]\n",
            "Saving to: ‘schema:verified-person:1.0.0:pmrgc5duojhgc3lfomrduwzc.vc’\n",
            "\n",
            "schema:verified-per 100%[===================>]   1.24K  --.-KB/s    in 0s      \n",
            "\n",
            "2024-06-25 19:15:30 (61.0 MB/s) - ‘schema:verified-person:1.0.0:pmrgc5duojhgc3lfomrduwzc.vc’ saved [1268/1268]\n",
            "\n"
          ]
        }
      ]
    },
    {
      "cell_type": "markdown",
      "source": [
        "\"Combined [did:web & did:tdw (Trust DID Web)], the additional features enable greater trust and security without compromising the simplicity of did:web. The incorporation of the DID Core compatible \"/whois\" path, drawing inspiration from the traditional WHOIS protocol, offers an easy to use, decentralized, trust registry. This did:tdw aims to establish a more trusted and secure web environment by providing robust verification processes and enabling transparency and authenticity in the management of decentralized digital identities.\" ~ https://github.com/bcgov/trustdidweb?tab=readme-ov-file#abstract  \n",
        "https://github.com/bcgov/trustdidweb-py/blob/main/sample-anoncreds/creddef%3Atag%3A1pmrg65tfojwgc6kjmqrduite.vc\n",
        "https://github.com/bcgov/trustdidweb-py/blob/main/sample-anoncreds/schema%3Averified-person%3A1.0.0%3Apmrgc5duojhgc3lfomrduwzc.vc  "
      ],
      "metadata": {
        "id": "aM720Up6GjCw"
      }
    },
    {
      "cell_type": "markdown",
      "source": [
        " ### Implementor Guidance: Publishing AnonCreds objects using did:tdw\n",
        "https://github.com/TheSDEs/trustdidweb-py/blob/main/demo.py\n",
        "https://github.com/bcgov/trustdidweb/issues/51\n",
        "https://github.com/TheSDEs/trustdidweb-py/tree/main/sample-anoncreds\n",
        "### SCID(Self-Certifying IDentifier) whois.jsonld:\n",
        "\"id\": \"did:tdw:1st.technology:qimpl35i4zutiwcmzrgk4mzbvun6#whois\",\n",
        "      \"type\": \"LinkedVerifiablePresentation\",\n",
        "      \"serviceEndpoint\": \"https://1st.technology/.well-known/whois.jsonld\""
      ],
      "metadata": {
        "id": "erp52dPiGz-K"
      }
    },
    {
      "cell_type": "code",
      "source": [
        "# # A new did:tdw DID can be minted using the provision command.\n",
        "# # This will create a new Askar keystore for handling the signing key.\n",
        "# # !python3 -m did_tdw.provision --auto \"domain.example:{SCID}\"\n",
        "# !python3 -m did_tdw.provision --auto \"1st.technology:{SCID}\"\n",
        "\n",
        "# # !python3 -m did_tdw.provision --auto \"domain.example:{SCID}\"\n",
        "# !python3 -m did_tdw.provision --auto \"1st.technology:{SCID}\"\n",
        "\n",
        "# # Provision the DID\n",
        "# # https://github.com/bcgov/trustdidweb/issues/6\n",
        "# !python3 -m did_tdw.provision --auto \"1st.technology:{SCID}\"\n",
        "# # https://bcgov.github.io/trustdidweb/#scid-generation-and-validation"
      ],
      "metadata": {
        "id": "gCzeoDV7w6oZ"
      },
      "execution_count": 46,
      "outputs": []
    },
    {
      "cell_type": "markdown",
      "source": [
        "# AoA: SIOP-OID4VP (Self-Issued OpenID Provider)"
      ],
      "metadata": {
        "id": "RmEng0lc2ZR9"
      }
    },
    {
      "cell_type": "code",
      "source": [],
      "metadata": {
        "id": "Cxxt9-CdZyl8"
      },
      "execution_count": 47,
      "outputs": []
    },
    {
      "cell_type": "code",
      "source": [],
      "metadata": {
        "id": "Wt6R8vGWuKHq"
      },
      "execution_count": 48,
      "outputs": []
    },
    {
      "cell_type": "code",
      "source": [],
      "metadata": {
        "id": "ebDMSguSFTY3"
      },
      "execution_count": 48,
      "outputs": []
    }
  ]
}